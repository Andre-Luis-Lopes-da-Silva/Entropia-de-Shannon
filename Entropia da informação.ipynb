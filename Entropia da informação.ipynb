{
 "cells": [
  {
   "cell_type": "markdown",
   "id": "9400d14c",
   "metadata": {},
   "source": [
    "## Entropia de Shannon ou Entropia da Informação"
   ]
  },
  {
   "cell_type": "markdown",
   "id": "c9bef4e2",
   "metadata": {},
   "source": [
    "### A entropia da informação, baseada na teoria da informação de Claude Shannon, pode ser usada no day trade para medir a incerteza e a previsibilidade dos preços de ativos. "
   ]
  },
  {
   "cell_type": "code",
   "execution_count": 1,
   "id": "6971a619",
   "metadata": {},
   "outputs": [
    {
     "name": "stdout",
     "output_type": "stream",
     "text": [
      "Entropia do mercado: 0.9910760598382221\n"
     ]
    }
   ],
   "source": [
    "import numpy as np\n",
    "import pandas as pd\n",
    "from scipy.stats import entropy\n",
    "\n",
    "# Simulando uma série de preços\n",
    "precos = np.array([100, 101, 102, 101, 100, 99, 98, 99, 100, 101])\n",
    "retornos = np.diff(np.log(precos))  # Log-retornos\n",
    "\n",
    "# Criando um histograma de frequências dos retornos\n",
    "hist, bins = np.histogram(retornos, bins=10, density=True)\n",
    "\n",
    "# Calculando a entropia de Shannon\n",
    "entropia = entropy(hist, base=2)\n",
    "\n",
    "print(f'Entropia do mercado: {entropia}')\n"
   ]
  },
  {
   "cell_type": "code",
   "execution_count": 2,
   "id": "fb57b21d",
   "metadata": {},
   "outputs": [],
   "source": [
    "# Se a entropia estiver muito alta, significa que o mercado está mais difícil de prever. Se estiver baixa, pode haver uma oportunidade de tendência."
   ]
  },
  {
   "cell_type": "code",
   "execution_count": 3,
   "id": "9005f624",
   "metadata": {},
   "outputs": [],
   "source": [
    "# Pode indicar se o mercado está tendencial ou lateral."
   ]
  },
  {
   "cell_type": "markdown",
   "id": "e8cafa75",
   "metadata": {},
   "source": [
    "### Se a entropia começar a diminuir após um período de alta, pode indicar uma transição para uma tendência mais clara."
   ]
  },
  {
   "cell_type": "code",
   "execution_count": null,
   "id": "eef43907",
   "metadata": {},
   "outputs": [],
   "source": []
  }
 ],
 "metadata": {
  "kernelspec": {
   "display_name": "Python 3 (ipykernel)",
   "language": "python",
   "name": "python3"
  },
  "language_info": {
   "codemirror_mode": {
    "name": "ipython",
    "version": 3
   },
   "file_extension": ".py",
   "mimetype": "text/x-python",
   "name": "python",
   "nbconvert_exporter": "python",
   "pygments_lexer": "ipython3",
   "version": "3.9.16"
  }
 },
 "nbformat": 4,
 "nbformat_minor": 5
}
